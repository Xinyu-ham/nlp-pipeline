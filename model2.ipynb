{
 "cells": [
  {
   "cell_type": "code",
   "execution_count": 22,
   "metadata": {},
   "outputs": [],
   "source": [
    "import pandas as pd\n",
    "from pandas_tfrecords import pd2tf \n",
    "import matplotlib.pyplot as plt\n",
    "\n",
    "%matplotlib inline"
   ]
  },
  {
   "cell_type": "code",
   "execution_count": 10,
   "metadata": {},
   "outputs": [],
   "source": [
    "def save_data_as_tfrecords(data_source, output_path):\n",
    "    df = pd.read_csv(data_source)\n",
    "    pd2tf(df, output_path)\n",
    "    print('Saved data as tfrecords at {}'.format(output_path))\n",
    "    return df\n"
   ]
  },
  {
   "cell_type": "code",
   "execution_count": 11,
   "metadata": {},
   "outputs": [
    {
     "name": "stdout",
     "output_type": "stream",
     "text": [
      "Saved data as tfrecords at data/covid.tfrecords\n"
     ]
    },
    {
     "data": {
      "text/html": [
       "<div>\n",
       "<style scoped>\n",
       "    .dataframe tbody tr th:only-of-type {\n",
       "        vertical-align: middle;\n",
       "    }\n",
       "\n",
       "    .dataframe tbody tr th {\n",
       "        vertical-align: top;\n",
       "    }\n",
       "\n",
       "    .dataframe thead th {\n",
       "        text-align: right;\n",
       "    }\n",
       "</style>\n",
       "<table border=\"1\" class=\"dataframe\">\n",
       "  <thead>\n",
       "    <tr style=\"text-align: right;\">\n",
       "      <th></th>\n",
       "      <th>headlines</th>\n",
       "      <th>outcome</th>\n",
       "    </tr>\n",
       "  </thead>\n",
       "  <tbody>\n",
       "    <tr>\n",
       "      <th>0</th>\n",
       "      <td>A post claims compulsory vacination violates t...</td>\n",
       "      <td>0</td>\n",
       "    </tr>\n",
       "    <tr>\n",
       "      <th>1</th>\n",
       "      <td>A photo claims that this person is a doctor wh...</td>\n",
       "      <td>0</td>\n",
       "    </tr>\n",
       "    <tr>\n",
       "      <th>2</th>\n",
       "      <td>Post about a video claims that it is a protest...</td>\n",
       "      <td>0</td>\n",
       "    </tr>\n",
       "    <tr>\n",
       "      <th>3</th>\n",
       "      <td>All deaths by respiratory failure and pneumoni...</td>\n",
       "      <td>0</td>\n",
       "    </tr>\n",
       "    <tr>\n",
       "      <th>4</th>\n",
       "      <td>The dean of the College of Biologists of Euska...</td>\n",
       "      <td>0</td>\n",
       "    </tr>\n",
       "  </tbody>\n",
       "</table>\n",
       "</div>"
      ],
      "text/plain": [
       "                                           headlines  outcome\n",
       "0  A post claims compulsory vacination violates t...        0\n",
       "1  A photo claims that this person is a doctor wh...        0\n",
       "2  Post about a video claims that it is a protest...        0\n",
       "3  All deaths by respiratory failure and pneumoni...        0\n",
       "4  The dean of the College of Biologists of Euska...        0"
      ]
     },
     "execution_count": 11,
     "metadata": {},
     "output_type": "execute_result"
    }
   ],
   "source": [
    "data_source = 'data/covid.zip'\n",
    "\n",
    "df = save_data_as_tfrecords(data_source, 'data/covid.tfrecords')\n",
    "df.head()"
   ]
  },
  {
   "cell_type": "code",
   "execution_count": 31,
   "metadata": {},
   "outputs": [
    {
     "data": {
      "image/png": "[encoded data removed]",
      "text/plain": [
       "<Figure size 720x360 with 2 Axes>"
      ]
     },
     "metadata": {
      "needs_background": "light"
     },
     "output_type": "display_data"
    }
   ],
   "source": [
    "# create two subplots\n",
    "fig, axs = plt.subplots(1, 2, figsize=(10, 5))\n",
    "\n",
    "titles = ['Actual news', 'Fake news']\n",
    "for i, title in enumerate(titles):\n",
    "    df.query('outcome == @i')['headlines'].str.split().\\\n",
    "        map(lambda x: len(x)).hist(ax=axs[i])\n",
    "    axs[i].set_title(title)\n",
    "    axs[i].set_xlabel('Number of words')\n",
    "plt.show()"
   ]
  },
  {
   "cell_type": "code",
   "execution_count": null,
   "metadata": {},
   "outputs": [],
   "source": [
    "import tensorflow as tf\n",
    "\n",
    "# read tfrecords\n",
    "def read_tfrecords(tfrecords_path, batch_size, shuffle_buffer_size=1000):\n",
    "    def decode(x):\n",
    "        feature_description = {\n",
    "            'headlines': tf.io.FixedLenFeature([], tf.string),\n",
    "            'outcome': tf.io.FixedLenFeature([], tf.int64),\n",
    "        }\n",
    "        return tf.io.parse_single_example(x, feature_description)\n",
    "    \n",
    "    def get_dataset(tfrecords_path):\n",
    "        dataset = tf.data.TFRecordDataset(tfrecords_path)\n",
    "        dataset = dataset.map(decode)\n",
    "        return dataset\n",
    "    \n",
    "    dataset = get_dataset(tfrecords_path)\n",
    "    dataset = dataset.shuffle(shuffle_buffer_size)\n",
    "    dataset = dataset.batch(batch_size)\n",
    "    return dataset"
   ]
  },
  {
   "cell_type": "code",
   "execution_count": 27,
   "metadata": {},
   "outputs": [],
   "source": [
    "import tensorflow as tf \n",
    "import boto3, os\n",
    "import pandas as pd\n",
    "\n",
    "class DataUploader:\n",
    "    def __init__(self, data_source: str, output_path: str, batch_size: int, bucket_name: str):\n",
    "        self.data_source = data_source\n",
    "        self.batch_size = batch_size\n",
    "        self.output_path = output_path\n",
    "        self.bucket = boto3.resource('s3', region_name='ap-southeast-1').Bucket(bucket_name)\n",
    "\n",
    "    @staticmethod\n",
    "    def _int64_feature(value):\n",
    "        return tf.train.Feature(int64_list=tf.train.Int64List(value=[value]))\n",
    "    \n",
    "    @staticmethod\n",
    "    def _bytes_feature(value):\n",
    "        return tf.train.Feature(bytes_list=tf.train.BytesList(value=[value.encode()]))\n",
    "    \n",
    "    @staticmethod\n",
    "    def write_single_tfrecord_file(df, output_path:str, file_index:int):\n",
    "        output_path = output_path + f'/file_{file_index}.tfrecords'\n",
    "        with tf.io.TFRecordWriter(output_path) as writer:\n",
    "            for _, row in df.iterrows():\n",
    "                feature = {\n",
    "                    'headlines': DataUploader._bytes_feature(row['headlines']),\n",
    "                    'outcome': DataUploader._int64_feature(row['outcome']),\n",
    "                }\n",
    "                example = tf.train.Example(features=tf.train.Features(feature=feature))\n",
    "                writer.write(example.SerializeToString())\n",
    "\n",
    "\n",
    "    def write_tfrecords(self):\n",
    "        if not os.path.exists(self.output_path):\n",
    "            os.mkdir(self.output_path)\n",
    "        df = pd.read_csv(self.data_source)\n",
    "        num_rows = len(df)\n",
    "        num_files = num_rows // self.batch_size\n",
    "\n",
    "        for i in range(num_files):\n",
    "            self.write_single_tfrecord_file(df.iloc[i*self.batch_size:(i+1)*self.batch_size], self.output_path, i)\n",
    "            print('Wrote {} rows to tfrecords file {}'.format(self.batch_size, i))\n",
    "\n",
    "    def upload_to_s3(self):\n",
    "        # upload all files in directory\n",
    "        for file in os.listdir(self.output_path):\n",
    "            key = os.path.join(self.output_path, file)\n",
    "            self.bucket.upload_file(key, key)\n",
    "\n",
    "    \n",
    "        "
   ]
  },
  {
   "cell_type": "code",
   "execution_count": 28,
   "metadata": {},
   "outputs": [
    {
     "name": "stdout",
     "output_type": "stream",
     "text": [
      "Wrote 310 rows to tfrecords file 0\n",
      "Wrote 310 rows to tfrecords file 1\n",
      "Wrote 310 rows to tfrecords file 2\n",
      "Wrote 310 rows to tfrecords file 3\n",
      "Wrote 310 rows to tfrecords file 4\n",
      "Wrote 310 rows to tfrecords file 5\n",
      "Wrote 310 rows to tfrecords file 6\n",
      "Wrote 310 rows to tfrecords file 7\n",
      "Wrote 310 rows to tfrecords file 8\n",
      "Wrote 310 rows to tfrecords file 9\n",
      "Wrote 310 rows to tfrecords file 10\n",
      "Wrote 310 rows to tfrecords file 11\n",
      "Wrote 310 rows to tfrecords file 12\n",
      "Wrote 310 rows to tfrecords file 13\n",
      "Wrote 310 rows to tfrecords file 14\n",
      "Wrote 310 rows to tfrecords file 15\n",
      "Wrote 310 rows to tfrecords file 16\n",
      "Wrote 310 rows to tfrecords file 17\n",
      "Wrote 310 rows to tfrecords file 18\n",
      "Wrote 310 rows to tfrecords file 19\n",
      "Wrote 310 rows to tfrecords file 20\n",
      "Wrote 310 rows to tfrecords file 21\n",
      "Wrote 310 rows to tfrecords file 22\n",
      "Wrote 310 rows to tfrecords file 23\n",
      "Wrote 310 rows to tfrecords file 24\n",
      "Wrote 310 rows to tfrecords file 25\n",
      "Wrote 310 rows to tfrecords file 26\n",
      "Wrote 310 rows to tfrecords file 27\n",
      "Wrote 310 rows to tfrecords file 28\n",
      "Wrote 310 rows to tfrecords file 29\n",
      "Wrote 310 rows to tfrecords file 30\n",
      "Wrote 310 rows to tfrecords file 31\n"
     ]
    }
   ],
   "source": [
    "data_uploader = DataUploader('data/covid.zip', 'data/covid.tfrecords', 310, 'xy-mp-pipeline')\n",
    "data_uploader.write_tfrecords()\n",
    "data_uploader.upload_to_s3()"
   ]
  },
  {
   "cell_type": "code",
   "execution_count": 1,
   "metadata": {},
   "outputs": [
    {
     "name": "stderr",
     "output_type": "stream",
     "text": [
      "C:\\Users\\Xin Yu\\AppData\\Local\\Programs\\Python\\Python39\\lib\\site-packages\\scipy\\__init__.py:146: UserWarning: A NumPy version >=1.16.5 and <1.23.0 is required for this version of SciPy (detected version 1.24.3\n",
      "  warnings.warn(f\"A NumPy version >={np_minversion} and <{np_maxversion}\"\n"
     ]
    }
   ],
   "source": [
    "DATA_SOURCE = 'data/covid.zip'\n",
    "BUCKET_NAME = 'xy-mp-pipeline'\n",
    "OUTPUT_PATH = 'data/covid.tfrecords'\n",
    "BATCH_SIZE = 310\n",
    "\n",
    "import tensorflow as tf\n",
    "import tensorflow_hub as hub\n",
    "import tensorflow_text as text\n",
    "import tensorflow_io\n",
    "\n",
    "tf.get_logger().setLevel('ERROR')"
   ]
  },
  {
   "cell_type": "code",
   "execution_count": null,
   "metadata": {},
   "outputs": [],
   "source": [
    "AUTOTUNE = tf.data.AUTOTUNE\n",
    "batch_size = 310\n",
    "seed = 42\n",
    "\n",
    "\n",
    "\n",
    "def get_dataset(batch_size, bucket_name, s3_prefix):\n",
    "    def parse_tfrecord(example_proto):\n",
    "        feature_description = {\n",
    "            'headlines': tf.io.FixedLenFeature([], tf.string),\n",
    "            'outcome': tf.io.FixedLenFeature([], tf.int64),\n",
    "        }\n",
    "        return tensorflow_io.parse_single_example(example_proto, feature_description)\n",
    "    \n",
    "    autotune = tf.data.experimental.AUTOTUNE\n",
    "    records = tf.data.Dataset.list_files(f's3://{bucket_name}/{s3_prefix}/*.tfrecords', shuffle=True)\n",
    "    dataset = tf.data.TFRecordDataset(records, num_parallel_reads=autotune).repeat()\n",
    "    dataset = dataset.map(parse_tfrecord, num_parallel_calls=autotune)\n",
    "    dataset = dataset.batch(batch_size).prefetch(autotune)\n",
    "    return dataset\n",
    "\n",
    "train_dataset = get_dataset(batch_size, BUCKET_NAME, 'data/covid.tfrecords')\n",
    "# \n"
   ]
  },
  {
   "cell_type": "code",
   "execution_count": null,
   "metadata": {},
   "outputs": [],
   "source": []
  }
 ],
 "metadata": {
  "kernelspec": {
   "display_name": "Python 3 (ipykernel)",
   "language": "python",
   "name": "python3"
  },
  "language_info": {
   "codemirror_mode": {
    "name": "ipython",
    "version": 3
   },
   "file_extension": ".py",
   "mimetype": "text/x-python",
   "name": "python",
   "nbconvert_exporter": "python",
   "pygments_lexer": "ipython3",
   "version": "3.9.7"
  }
 },
 "nbformat": 4,
 "nbformat_minor": 2
}
