{
 "cells": [
  {
   "cell_type": "code",
   "execution_count": 11,
   "metadata": {},
   "outputs": [],
   "source": [
    "import numpy as np\n",
    "import pandas as pd\n",
    "import os\n",
    "import matplotlib.pyplot as plt"
   ]
  },
  {
   "cell_type": "code",
   "execution_count": 4,
   "metadata": {},
   "outputs": [],
   "source": [
    "DATA_SOURCE = 'data/covid.zip'"
   ]
  },
  {
   "cell_type": "code",
   "execution_count": 98,
   "metadata": {},
   "outputs": [
    {
     "data": {
      "text/html": [
       "<div>\n",
       "<style scoped>\n",
       "    .dataframe tbody tr th:only-of-type {\n",
       "        vertical-align: middle;\n",
       "    }\n",
       "\n",
       "    .dataframe tbody tr th {\n",
       "        vertical-align: top;\n",
       "    }\n",
       "\n",
       "    .dataframe thead th {\n",
       "        text-align: right;\n",
       "    }\n",
       "</style>\n",
       "<table border=\"1\" class=\"dataframe\">\n",
       "  <thead>\n",
       "    <tr style=\"text-align: right;\">\n",
       "      <th></th>\n",
       "      <th>headlines</th>\n",
       "      <th>outcome</th>\n",
       "    </tr>\n",
       "  </thead>\n",
       "  <tbody>\n",
       "    <tr>\n",
       "      <th>0</th>\n",
       "      <td>A post claims compulsory vacination violates t...</td>\n",
       "      <td>0</td>\n",
       "    </tr>\n",
       "    <tr>\n",
       "      <th>1</th>\n",
       "      <td>A photo claims that this person is a doctor wh...</td>\n",
       "      <td>0</td>\n",
       "    </tr>\n",
       "    <tr>\n",
       "      <th>2</th>\n",
       "      <td>Post about a video claims that it is a protest...</td>\n",
       "      <td>0</td>\n",
       "    </tr>\n",
       "    <tr>\n",
       "      <th>3</th>\n",
       "      <td>All deaths by respiratory failure and pneumoni...</td>\n",
       "      <td>0</td>\n",
       "    </tr>\n",
       "    <tr>\n",
       "      <th>4</th>\n",
       "      <td>The dean of the College of Biologists of Euska...</td>\n",
       "      <td>0</td>\n",
       "    </tr>\n",
       "  </tbody>\n",
       "</table>\n",
       "</div>"
      ],
      "text/plain": [
       "                                           headlines  outcome\n",
       "0  A post claims compulsory vacination violates t...        0\n",
       "1  A photo claims that this person is a doctor wh...        0\n",
       "2  Post about a video claims that it is a protest...        0\n",
       "3  All deaths by respiratory failure and pneumoni...        0\n",
       "4  The dean of the College of Biologists of Euska...        0"
      ]
     },
     "execution_count": 98,
     "metadata": {},
     "output_type": "execute_result"
    }
   ],
   "source": [
    "df = pd.read_csv(DATA_SOURCE)\n",
    "df.head()"
   ]
  },
  {
   "attachments": {},
   "cell_type": "markdown",
   "metadata": {},
   "source": [
    "### Add feature that counts the number of words in each headlines"
   ]
  },
  {
   "cell_type": "code",
   "execution_count": 99,
   "metadata": {},
   "outputs": [],
   "source": [
    "def plot_hist_by_outcome(df, col, bins=10):\n",
    "    fig, axes = plt.subplots(1, 2, figsize=(12, 4), sharex=True)\n",
    "    axes[0].hist(df[df['outcome'] == 0][col], bins=bins)\n",
    "    axes[1].hist(df[df['outcome'] == 1][col], bins=bins)\n",
    "    # subplots share the same x-axis range, and the y-axis range is automatically adjusted\n",
    "    axes[0].set_title('Real News')\n",
    "    axes[1].set_title('Fake News')\n",
    "    fig.suptitle(col)\n",
    "    \n",
    "    plt.show()\n",
    "\n"
   ]
  },
  {
   "cell_type": "code",
   "execution_count": 100,
   "metadata": {},
   "outputs": [
    {
     "data": {
      "image/png": "[encoded data removed]",
      "text/plain": [
       "<Figure size 864x288 with 2 Axes>"
      ]
     },
     "metadata": {
      "needs_background": "light"
     },
     "output_type": "display_data"
    }
   ],
   "source": [
    "df['length'] = df['headlines'].apply(lambda x: len(x.split()))\n",
    "plot_hist_by_outcome(df, 'length', bins=10)"
   ]
  },
  {
   "attachments": {},
   "cell_type": "markdown",
   "metadata": {},
   "source": [
    "We can see that fake news tend to be slightly shorter in words. This may be because fake news are more likely to be clickbait, and clickbait headlines tend to be shorter. However, this is not a very strong indicator, as the difference is not very significant."
   ]
  },
  {
   "attachments": {},
   "cell_type": "markdown",
   "metadata": {},
   "source": [
    "### Add boolean feature that indicate if headline included statistics"
   ]
  },
  {
   "cell_type": "code",
   "execution_count": 101,
   "metadata": {},
   "outputs": [],
   "source": [
    "def bar_chart_by_outcome(df, col):\n",
    "    # count % of col values in each outcome\n",
    "    df = df.groupby([col, 'outcome']).count().reset_index().pivot(index='outcome', columns=col, values='headlines')\n",
    "    df = df.div(df.sum(axis=1), axis=0) * 100\n",
    "    df.plot.bar(figsize=(12, 4))\n",
    "    plt.title('% of {} in each outcome'.format(col))"
   ]
  },
  {
   "cell_type": "code",
   "execution_count": 102,
   "metadata": {},
   "outputs": [
    {
     "data": {
      "image/png": "[encoded data removed]",
      "text/plain": [
       "<Figure size 864x288 with 1 Axes>"
      ]
     },
     "metadata": {
      "needs_background": "light"
     },
     "output_type": "display_data"
    }
   ],
   "source": [
    "df['has_num'] = df['headlines'].str.contains(r'\\d', regex=True)\n",
    "bar_chart_by_outcome(df, 'has_num')"
   ]
  },
  {
   "attachments": {},
   "cell_type": "markdown",
   "metadata": {},
   "source": [
    "Seems like fake news are more likely to include statistics in their headlines. Perhaps fake news sites are more likely to use statistics to make their headlines seem more credible."
   ]
  },
  {
   "attachments": {},
   "cell_type": "markdown",
   "metadata": {},
   "source": [
    "### Add categorical features with Name-Entity Recognition using SpaCy and extract count of each entity labels"
   ]
  },
  {
   "cell_type": "code",
   "execution_count": 103,
   "metadata": {},
   "outputs": [
    {
     "name": "stderr",
     "output_type": "stream",
     "text": [
      "C:\\Users\\Xin Yu\\AppData\\Roaming\\Python\\Python39\\site-packages\\spacy\\util.py:837: UserWarning: [W095] Model 'en_core_web_sm' (3.5.0) was trained with spaCy v3.5 and may not be 100% compatible with the current version (3.3.0). If you see errors or degraded performance, download a newer compatible model or retrain your custom model with the current spaCy version. For more details and available updates, run: python -m spacy validate\n",
      "  warnings.warn(warn_msg)\n"
     ]
    },
    {
     "data": {
      "text/html": [
       "<div>\n",
       "<style scoped>\n",
       "    .dataframe tbody tr th:only-of-type {\n",
       "        vertical-align: middle;\n",
       "    }\n",
       "\n",
       "    .dataframe tbody tr th {\n",
       "        vertical-align: top;\n",
       "    }\n",
       "\n",
       "    .dataframe thead th {\n",
       "        text-align: right;\n",
       "    }\n",
       "</style>\n",
       "<table border=\"1\" class=\"dataframe\">\n",
       "  <thead>\n",
       "    <tr style=\"text-align: right;\">\n",
       "      <th></th>\n",
       "      <th>headlines</th>\n",
       "      <th>outcome</th>\n",
       "      <th>length</th>\n",
       "      <th>has_num</th>\n",
       "      <th>ner</th>\n",
       "    </tr>\n",
       "  </thead>\n",
       "  <tbody>\n",
       "    <tr>\n",
       "      <th>0</th>\n",
       "      <td>A post claims compulsory vacination violates t...</td>\n",
       "      <td>0</td>\n",
       "      <td>30</td>\n",
       "      <td>True</td>\n",
       "      <td>{'ORG': 2}</td>\n",
       "    </tr>\n",
       "    <tr>\n",
       "      <th>1</th>\n",
       "      <td>A photo claims that this person is a doctor wh...</td>\n",
       "      <td>0</td>\n",
       "      <td>24</td>\n",
       "      <td>True</td>\n",
       "      <td>{'ORG': 1, 'FAC': 1, 'GPE': 1}</td>\n",
       "    </tr>\n",
       "    <tr>\n",
       "      <th>2</th>\n",
       "      <td>Post about a video claims that it is a protest...</td>\n",
       "      <td>0</td>\n",
       "      <td>20</td>\n",
       "      <td>False</td>\n",
       "      <td>{'ORG': 1}</td>\n",
       "    </tr>\n",
       "    <tr>\n",
       "      <th>3</th>\n",
       "      <td>All deaths by respiratory failure and pneumoni...</td>\n",
       "      <td>0</td>\n",
       "      <td>18</td>\n",
       "      <td>True</td>\n",
       "      <td>{'ORG': 2}</td>\n",
       "    </tr>\n",
       "    <tr>\n",
       "      <th>4</th>\n",
       "      <td>The dean of the College of Biologists of Euska...</td>\n",
       "      <td>0</td>\n",
       "      <td>24</td>\n",
       "      <td>False</td>\n",
       "      <td>{'ORG': 2}</td>\n",
       "    </tr>\n",
       "  </tbody>\n",
       "</table>\n",
       "</div>"
      ],
      "text/plain": [
       "                                           headlines  outcome  length   \n",
       "0  A post claims compulsory vacination violates t...        0      30  \\\n",
       "1  A photo claims that this person is a doctor wh...        0      24   \n",
       "2  Post about a video claims that it is a protest...        0      20   \n",
       "3  All deaths by respiratory failure and pneumoni...        0      18   \n",
       "4  The dean of the College of Biologists of Euska...        0      24   \n",
       "\n",
       "   has_num                             ner  \n",
       "0     True                      {'ORG': 2}  \n",
       "1     True  {'ORG': 1, 'FAC': 1, 'GPE': 1}  \n",
       "2    False                      {'ORG': 1}  \n",
       "3     True                      {'ORG': 2}  \n",
       "4    False                      {'ORG': 2}  "
      ]
     },
     "execution_count": 103,
     "metadata": {},
     "output_type": "execute_result"
    }
   ],
   "source": [
    "# NEr with spacy\n",
    "import spacy\n",
    "from collections import Counter\n",
    "nlp = spacy.load('en_core_web_sm')\n",
    "\n",
    "# @np.vectorize\n",
    "def ner(text):\n",
    "    doc = nlp(text)\n",
    "    labels = [X.label_ for X in doc.ents]\n",
    "    return Counter(labels)\n",
    "\n",
    "df['ner'] = df['headlines'].apply(ner)\n",
    "df.head()"
   ]
  },
  {
   "cell_type": "code",
   "execution_count": 104,
   "metadata": {},
   "outputs": [
    {
     "data": {
      "text/html": [
       "<div>\n",
       "<style scoped>\n",
       "    .dataframe tbody tr th:only-of-type {\n",
       "        vertical-align: middle;\n",
       "    }\n",
       "\n",
       "    .dataframe tbody tr th {\n",
       "        vertical-align: top;\n",
       "    }\n",
       "\n",
       "    .dataframe thead th {\n",
       "        text-align: right;\n",
       "    }\n",
       "</style>\n",
       "<table border=\"1\" class=\"dataframe\">\n",
       "  <thead>\n",
       "    <tr style=\"text-align: right;\">\n",
       "      <th></th>\n",
       "      <th>headlines</th>\n",
       "      <th>outcome</th>\n",
       "      <th>length</th>\n",
       "      <th>has_num</th>\n",
       "      <th>ner_WORK_OF_ART</th>\n",
       "      <th>ner_ORDINAL</th>\n",
       "      <th>ner_LANGUAGE</th>\n",
       "      <th>ner_CARDINAL</th>\n",
       "      <th>ner_FAC</th>\n",
       "      <th>ner_PERSON</th>\n",
       "      <th>...</th>\n",
       "      <th>ner_EVENT</th>\n",
       "      <th>ner_MONEY</th>\n",
       "      <th>ner_QUANTITY</th>\n",
       "      <th>ner_LAW</th>\n",
       "      <th>ner_NORP</th>\n",
       "      <th>ner_ORG</th>\n",
       "      <th>ner_PRODUCT</th>\n",
       "      <th>ner_GPE</th>\n",
       "      <th>ner_LOC</th>\n",
       "      <th>ner_DATE</th>\n",
       "    </tr>\n",
       "  </thead>\n",
       "  <tbody>\n",
       "    <tr>\n",
       "      <th>0</th>\n",
       "      <td>A post claims compulsory vacination violates t...</td>\n",
       "      <td>0</td>\n",
       "      <td>30</td>\n",
       "      <td>True</td>\n",
       "      <td>115</td>\n",
       "      <td>196</td>\n",
       "      <td>18</td>\n",
       "      <td>1832</td>\n",
       "      <td>137</td>\n",
       "      <td>3009</td>\n",
       "      <td>...</td>\n",
       "      <td>37</td>\n",
       "      <td>153</td>\n",
       "      <td>40</td>\n",
       "      <td>22</td>\n",
       "      <td>2358</td>\n",
       "      <td>5566</td>\n",
       "      <td>257</td>\n",
       "      <td>5308</td>\n",
       "      <td>192</td>\n",
       "      <td>1315</td>\n",
       "    </tr>\n",
       "    <tr>\n",
       "      <th>1</th>\n",
       "      <td>A photo claims that this person is a doctor wh...</td>\n",
       "      <td>0</td>\n",
       "      <td>24</td>\n",
       "      <td>True</td>\n",
       "      <td>115</td>\n",
       "      <td>196</td>\n",
       "      <td>18</td>\n",
       "      <td>1832</td>\n",
       "      <td>137</td>\n",
       "      <td>3009</td>\n",
       "      <td>...</td>\n",
       "      <td>37</td>\n",
       "      <td>153</td>\n",
       "      <td>40</td>\n",
       "      <td>22</td>\n",
       "      <td>2358</td>\n",
       "      <td>5566</td>\n",
       "      <td>257</td>\n",
       "      <td>5308</td>\n",
       "      <td>192</td>\n",
       "      <td>1315</td>\n",
       "    </tr>\n",
       "    <tr>\n",
       "      <th>2</th>\n",
       "      <td>Post about a video claims that it is a protest...</td>\n",
       "      <td>0</td>\n",
       "      <td>20</td>\n",
       "      <td>False</td>\n",
       "      <td>115</td>\n",
       "      <td>196</td>\n",
       "      <td>18</td>\n",
       "      <td>1832</td>\n",
       "      <td>137</td>\n",
       "      <td>3009</td>\n",
       "      <td>...</td>\n",
       "      <td>37</td>\n",
       "      <td>153</td>\n",
       "      <td>40</td>\n",
       "      <td>22</td>\n",
       "      <td>2358</td>\n",
       "      <td>5566</td>\n",
       "      <td>257</td>\n",
       "      <td>5308</td>\n",
       "      <td>192</td>\n",
       "      <td>1315</td>\n",
       "    </tr>\n",
       "    <tr>\n",
       "      <th>3</th>\n",
       "      <td>All deaths by respiratory failure and pneumoni...</td>\n",
       "      <td>0</td>\n",
       "      <td>18</td>\n",
       "      <td>True</td>\n",
       "      <td>115</td>\n",
       "      <td>196</td>\n",
       "      <td>18</td>\n",
       "      <td>1832</td>\n",
       "      <td>137</td>\n",
       "      <td>3009</td>\n",
       "      <td>...</td>\n",
       "      <td>37</td>\n",
       "      <td>153</td>\n",
       "      <td>40</td>\n",
       "      <td>22</td>\n",
       "      <td>2358</td>\n",
       "      <td>5566</td>\n",
       "      <td>257</td>\n",
       "      <td>5308</td>\n",
       "      <td>192</td>\n",
       "      <td>1315</td>\n",
       "    </tr>\n",
       "    <tr>\n",
       "      <th>4</th>\n",
       "      <td>The dean of the College of Biologists of Euska...</td>\n",
       "      <td>0</td>\n",
       "      <td>24</td>\n",
       "      <td>False</td>\n",
       "      <td>115</td>\n",
       "      <td>196</td>\n",
       "      <td>18</td>\n",
       "      <td>1832</td>\n",
       "      <td>137</td>\n",
       "      <td>3009</td>\n",
       "      <td>...</td>\n",
       "      <td>37</td>\n",
       "      <td>153</td>\n",
       "      <td>40</td>\n",
       "      <td>22</td>\n",
       "      <td>2358</td>\n",
       "      <td>5566</td>\n",
       "      <td>257</td>\n",
       "      <td>5308</td>\n",
       "      <td>192</td>\n",
       "      <td>1315</td>\n",
       "    </tr>\n",
       "  </tbody>\n",
       "</table>\n",
       "<p>5 rows × 22 columns</p>\n",
       "</div>"
      ],
      "text/plain": [
       "                                           headlines  outcome  length   \n",
       "0  A post claims compulsory vacination violates t...        0      30  \\\n",
       "1  A photo claims that this person is a doctor wh...        0      24   \n",
       "2  Post about a video claims that it is a protest...        0      20   \n",
       "3  All deaths by respiratory failure and pneumoni...        0      18   \n",
       "4  The dean of the College of Biologists of Euska...        0      24   \n",
       "\n",
       "   has_num  ner_WORK_OF_ART  ner_ORDINAL  ner_LANGUAGE  ner_CARDINAL  ner_FAC   \n",
       "0     True              115          196            18          1832      137  \\\n",
       "1     True              115          196            18          1832      137   \n",
       "2    False              115          196            18          1832      137   \n",
       "3     True              115          196            18          1832      137   \n",
       "4    False              115          196            18          1832      137   \n",
       "\n",
       "   ner_PERSON  ...  ner_EVENT  ner_MONEY  ner_QUANTITY  ner_LAW  ner_NORP   \n",
       "0        3009  ...         37        153            40       22      2358  \\\n",
       "1        3009  ...         37        153            40       22      2358   \n",
       "2        3009  ...         37        153            40       22      2358   \n",
       "3        3009  ...         37        153            40       22      2358   \n",
       "4        3009  ...         37        153            40       22      2358   \n",
       "\n",
       "   ner_ORG  ner_PRODUCT  ner_GPE  ner_LOC  ner_DATE  \n",
       "0     5566          257     5308      192      1315  \n",
       "1     5566          257     5308      192      1315  \n",
       "2     5566          257     5308      192      1315  \n",
       "3     5566          257     5308      192      1315  \n",
       "4     5566          257     5308      192      1315  \n",
       "\n",
       "[5 rows x 22 columns]"
      ]
     },
     "execution_count": 104,
     "metadata": {},
     "output_type": "execute_result"
    }
   ],
   "source": [
    "labels = [list(c.keys()) for c in df.ner.values]\n",
    "labels = set([item for sublist in labels for item in sublist])\n",
    "\n",
    "for label in labels:\n",
    "    df['ner_' + label.lower()] = df['ner'].apply(lambda x: x.get(label, 0)).sum()\n",
    "df = df.drop(columns=['ner'])\n",
    "df.head()\n",
    "    \n"
   ]
  },
  {
   "attachments": {},
   "cell_type": "markdown",
   "metadata": {},
   "source": [
    "## Class imbalance\n",
    "Let's do a quick count of the number of examples in each class."
   ]
  },
  {
   "cell_type": "code",
   "execution_count": 118,
   "metadata": {},
   "outputs": [],
   "source": [
    "def plot_count_of_each_outcome(df):\n",
    "    df.groupby('outcome').count().headlines.plot.bar(figsize=(4, 4))\n",
    "    plt.title('Number of news headlines in each outcome')"
   ]
  },
  {
   "cell_type": "code",
   "execution_count": 119,
   "metadata": {},
   "outputs": [
    {
     "data": {
      "image/png": "[encoded data removed]",
      "text/plain": [
       "<Figure size 288x288 with 1 Axes>"
      ]
     },
     "metadata": {
      "needs_background": "light"
     },
     "output_type": "display_data"
    }
   ],
   "source": [
    "plot_count_of_each_outcome(df)"
   ]
  },
  {
   "attachments": {},
   "cell_type": "markdown",
   "metadata": {},
   "source": [
    "Oof! Very imbalanced. This tend to result in model having severe bias towards the majority class. We will need to do something about this. One way to do this is to oversample the minority class. We can do this by simply duplicating some of the examples in the minority class. However, this may result in overfitting. Another way is to undersample the majority class. We can do this by simply removing some of the examples in the majority class. However, this may result in loss of information. We will try both methods and see which one works better."
   ]
  },
  {
   "cell_type": "code",
   "execution_count": 120,
   "metadata": {},
   "outputs": [
    {
     "data": {
      "image/png": "[encoded data removed]",
      "text/plain": [
       "<Figure size 288x288 with 1 Axes>"
      ]
     },
     "metadata": {
      "needs_background": "light"
     },
     "output_type": "display_data"
    }
   ],
   "source": [
    "# use smote to oversample outcome == 1 class\n",
    "from imblearn.over_sampling import RandomOverSampler\n",
    "\n",
    "X = df.drop(columns=['outcome'])\n",
    "y = df['outcome']\n",
    "\n",
    "ros = RandomOverSampler(sampling_strategy='auto', random_state=42)\n",
    "X, y = ros.fit_resample(X, y)\n",
    "\n",
    "df = pd.concat([X, y], axis=1)\n",
    "plot_count_of_each_outcome(df)"
   ]
  },
  {
   "attachments": {},
   "cell_type": "markdown",
   "metadata": {},
   "source": [
    "`# TODO: Insert thanos perfectly balanced meme`"
   ]
  },
  {
   "cell_type": "code",
   "execution_count": null,
   "metadata": {},
   "outputs": [],
   "source": []
  }
 ],
 "metadata": {
  "kernelspec": {
   "display_name": "base",
   "language": "python",
   "name": "python3"
  },
  "language_info": {
   "codemirror_mode": {
    "name": "ipython",
    "version": 3
   },
   "file_extension": ".py",
   "mimetype": "text/x-python",
   "name": "python",
   "nbconvert_exporter": "python",
   "pygments_lexer": "ipython3",
   "version": "3.9.7"
  },
  "orig_nbformat": 4
 },
 "nbformat": 4,
 "nbformat_minor": 2
}
